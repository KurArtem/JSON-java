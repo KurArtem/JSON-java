{
  "nbformat": 4,
  "nbformat_minor": 0,
  "metadata": {
    "colab": {
      "provenance": [],
      "collapsed_sections": [],
      "authorship_tag": "ABX9TyPR8D0D1pALiptHCNAN8TtD",
      "include_colab_link": true
    },
    "kernelspec": {
      "name": "python3",
      "display_name": "Python 3"
    },
    "language_info": {
      "name": "python"
    }
  },
  "cells": [
    {
      "cell_type": "markdown",
      "metadata": {
        "id": "view-in-github",
        "colab_type": "text"
      },
      "source": [
        "<a href=\"https://colab.research.google.com/github/MadYabloko/JSON-java/blob/master/XOR_Neural.ipynb\" target=\"_parent\"><img src=\"https://colab.research.google.com/assets/colab-badge.svg\" alt=\"Open In Colab\"/></a>"
      ]
    },
    {
      "cell_type": "code",
      "execution_count": null,
      "metadata": {
        "id": "5rooVxJ0aSx2"
      },
      "outputs": [],
      "source": [
        "import numpy as np\n",
        "import random as rnd"
      ]
    },
    {
      "cell_type": "code",
      "source": [
        "# activation function\n",
        "def fun_act(s):\n",
        "  return 1 if s > 0 else 0"
      ],
      "metadata": {
        "id": "kY-cI80RbfwR"
      },
      "execution_count": null,
      "outputs": []
    },
    {
      "cell_type": "code",
      "source": [
        "# get neuron output on previous neurons\n",
        "def fun_MLP(x, wesa):\n",
        "  s1 = fun_act(np.dot(x, wesa[0][0])) # first neuron output\n",
        "  s2 = fun_act(np.dot(x, wesa[0][1])) # second neuron output\n",
        "  x2 = np.array([1, s1, s2])\n",
        "  s3 = fun_act(np.dot(x2, wesa[1][0])) # current neuron output\n",
        "  return s3"
      ],
      "metadata": {
        "id": "1bsnQkZPczjo"
      },
      "execution_count": null,
      "outputs": []
    },
    {
      "cell_type": "code",
      "source": [
        "# cross-enthropy\n",
        "def err_acc(tst_x, tst_y, w):\n",
        "  hit = 0\n",
        "  for i in range(tst_x):\n",
        "    pred_y = fun_MLP(tst_x[i], w)\n",
        "    if (pred_y == tst_y[i]):\n",
        "      hit = hit + 1\n",
        "  return hit"
      ],
      "metadata": {
        "id": "m5yjj5iGedcW"
      },
      "execution_count": null,
      "outputs": []
    },
    {
      "cell_type": "code",
      "source": [
        "def weights_convertation(w):\n",
        "  [[w[1: 4], w[4: 7]], [w[7: 10]]]"
      ],
      "metadata": {
        "id": "Rkzr0NkkhilD"
      },
      "execution_count": null,
      "outputs": []
    },
    {
      "cell_type": "code",
      "source": [
        "#genetic algorythm\n",
        "def genetic_train(t_x, \n",
        "                  t_y, \n",
        "                  population_size, \n",
        "                  k_size, \n",
        "                  population_death,\n",
        "                  a,\n",
        "                  b,\n",
        "                  epochs):\n",
        "  populus = np.random.randint(a, b, (population_size, k_size)) # something like start weights generation\n",
        "  population_last_element = len(populus) - 1\n",
        "  for epoch in range(epochs):\n",
        "    print(str(epoch + 1), \" epoch\")\n",
        "    for i in range(populus):\n",
        "      populus[i][0] = err_acc(t_x, t_y, weights_convertation(populus[i]))\n",
        "    populus = populus[np.argsort(populus[:0])]\n",
        "    for i in range(len(population_death)):\n",
        "      for j in range(k_size):\n",
        "          chk = rnd.randint(0, 1)\n",
        "          if (chk == 0):\n",
        "            dlt = rnd.randint(-1, 1)  \n",
        "            populus[i][j] = populus[population_last_element - i][j] + dlt\n",
        "    print(populus[population_last_element])\n",
        "  return weights_convertation(populus[population_last_element])"
      ],
      "metadata": {
        "id": "xgyN02Befwbc"
      },
      "execution_count": null,
      "outputs": []
    },
    {
      "cell_type": "code",
      "source": [
        "test_x = np.array([[1, 0, 0], [1, 0, 1], [1, 1, 0], [1, 1, 1]])\n",
        "test_y = np.array([0, 1, 1, 0])\n",
        "\n",
        "#first neuron, second neuron, \n",
        "weights = [[[1, 1, 1], [1, 1, 1]], [[1, 1, 1]]]"
      ],
      "metadata": {
        "id": "PdQcnuizbtGX"
      },
      "execution_count": null,
      "outputs": []
    },
    {
      "cell_type": "code",
      "source": [
        "weights_2 = genetic_train(test_x, test_y, 100, 10, 50, -5, 5, 20)\n",
        "for x in test_x:\n",
        "  print(fun_MLP(x, weights_2))"
      ],
      "metadata": {
        "colab": {
          "base_uri": "https://localhost:8080/",
          "height": 340
        },
        "id": "Ucty8pAecj38",
        "outputId": "1863c80c-288d-48f1-a6a8-b4f3535ac3e6"
      },
      "execution_count": null,
      "outputs": [
        {
          "output_type": "stream",
          "name": "stdout",
          "text": [
            "1  epoch\n"
          ]
        },
        {
          "output_type": "error",
          "ename": "TypeError",
          "evalue": "ignored",
          "traceback": [
            "\u001b[0;31m---------------------------------------------------------------------------\u001b[0m",
            "\u001b[0;31mTypeError\u001b[0m                                 Traceback (most recent call last)",
            "\u001b[0;32m<ipython-input-29-79754ccf644a>\u001b[0m in \u001b[0;36m<module>\u001b[0;34m\u001b[0m\n\u001b[0;32m----> 1\u001b[0;31m \u001b[0mweights_2\u001b[0m \u001b[0;34m=\u001b[0m \u001b[0mgenetic_train\u001b[0m\u001b[0;34m(\u001b[0m\u001b[0mtest_x\u001b[0m\u001b[0;34m,\u001b[0m \u001b[0mtest_y\u001b[0m\u001b[0;34m,\u001b[0m \u001b[0;36m100\u001b[0m\u001b[0;34m,\u001b[0m \u001b[0;36m10\u001b[0m\u001b[0;34m,\u001b[0m \u001b[0;36m50\u001b[0m\u001b[0;34m,\u001b[0m \u001b[0;34m-\u001b[0m\u001b[0;36m5\u001b[0m\u001b[0;34m,\u001b[0m \u001b[0;36m5\u001b[0m\u001b[0;34m,\u001b[0m \u001b[0;36m20\u001b[0m\u001b[0;34m)\u001b[0m\u001b[0;34m\u001b[0m\u001b[0;34m\u001b[0m\u001b[0m\n\u001b[0m\u001b[1;32m      2\u001b[0m \u001b[0;32mfor\u001b[0m \u001b[0mx\u001b[0m \u001b[0;32min\u001b[0m \u001b[0mtest_x\u001b[0m\u001b[0;34m:\u001b[0m\u001b[0;34m\u001b[0m\u001b[0;34m\u001b[0m\u001b[0m\n\u001b[1;32m      3\u001b[0m   \u001b[0mprint\u001b[0m\u001b[0;34m(\u001b[0m\u001b[0mfun_MLP\u001b[0m\u001b[0;34m(\u001b[0m\u001b[0mx\u001b[0m\u001b[0;34m,\u001b[0m \u001b[0mweights_2\u001b[0m\u001b[0;34m)\u001b[0m\u001b[0;34m)\u001b[0m\u001b[0;34m\u001b[0m\u001b[0;34m\u001b[0m\u001b[0m\n",
            "\u001b[0;32m<ipython-input-23-59653eeb7ef8>\u001b[0m in \u001b[0;36mgenetic_train\u001b[0;34m(t_x, t_y, population_size, k_size, population_death, a, b, epochs)\u001b[0m\n\u001b[1;32m     12\u001b[0m   \u001b[0;32mfor\u001b[0m \u001b[0mepoch\u001b[0m \u001b[0;32min\u001b[0m \u001b[0mrange\u001b[0m\u001b[0;34m(\u001b[0m\u001b[0mepochs\u001b[0m\u001b[0;34m)\u001b[0m\u001b[0;34m:\u001b[0m\u001b[0;34m\u001b[0m\u001b[0;34m\u001b[0m\u001b[0m\n\u001b[1;32m     13\u001b[0m     \u001b[0mprint\u001b[0m\u001b[0;34m(\u001b[0m\u001b[0mstr\u001b[0m\u001b[0;34m(\u001b[0m\u001b[0mepoch\u001b[0m \u001b[0;34m+\u001b[0m \u001b[0;36m1\u001b[0m\u001b[0;34m)\u001b[0m\u001b[0;34m,\u001b[0m \u001b[0;34m\" epoch\"\u001b[0m\u001b[0;34m)\u001b[0m\u001b[0;34m\u001b[0m\u001b[0;34m\u001b[0m\u001b[0m\n\u001b[0;32m---> 14\u001b[0;31m     \u001b[0;32mfor\u001b[0m \u001b[0mi\u001b[0m \u001b[0;32min\u001b[0m \u001b[0mrange\u001b[0m\u001b[0;34m(\u001b[0m\u001b[0mpopulus\u001b[0m\u001b[0;34m)\u001b[0m\u001b[0;34m:\u001b[0m\u001b[0;34m\u001b[0m\u001b[0;34m\u001b[0m\u001b[0m\n\u001b[0m\u001b[1;32m     15\u001b[0m       \u001b[0mpopulus\u001b[0m\u001b[0;34m[\u001b[0m\u001b[0mi\u001b[0m\u001b[0;34m]\u001b[0m\u001b[0;34m[\u001b[0m\u001b[0;36m0\u001b[0m\u001b[0;34m]\u001b[0m \u001b[0;34m=\u001b[0m \u001b[0merr_acc\u001b[0m\u001b[0;34m(\u001b[0m\u001b[0mt_x\u001b[0m\u001b[0;34m,\u001b[0m \u001b[0mt_y\u001b[0m\u001b[0;34m,\u001b[0m \u001b[0mweights_convertation\u001b[0m\u001b[0;34m(\u001b[0m\u001b[0mpopulus\u001b[0m\u001b[0;34m[\u001b[0m\u001b[0mi\u001b[0m\u001b[0;34m]\u001b[0m\u001b[0;34m)\u001b[0m\u001b[0;34m)\u001b[0m\u001b[0;34m\u001b[0m\u001b[0;34m\u001b[0m\u001b[0m\n\u001b[1;32m     16\u001b[0m     \u001b[0mpopulus\u001b[0m \u001b[0;34m=\u001b[0m \u001b[0mpopulus\u001b[0m\u001b[0;34m[\u001b[0m\u001b[0mnp\u001b[0m\u001b[0;34m.\u001b[0m\u001b[0margsort\u001b[0m\u001b[0;34m(\u001b[0m\u001b[0mpopulus\u001b[0m\u001b[0;34m[\u001b[0m\u001b[0;34m:\u001b[0m\u001b[0;36m0\u001b[0m\u001b[0;34m]\u001b[0m\u001b[0;34m)\u001b[0m\u001b[0;34m]\u001b[0m\u001b[0;34m\u001b[0m\u001b[0;34m\u001b[0m\u001b[0m\n",
            "\u001b[0;31mTypeError\u001b[0m: only integer scalar arrays can be converted to a scalar index"
          ]
        }
      ]
    }
  ]
}